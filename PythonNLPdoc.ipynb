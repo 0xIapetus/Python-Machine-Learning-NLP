{
 "cells": [
  {
   "cell_type": "code",
   "execution_count": 1,
   "metadata": {},
   "outputs": [],
   "source": [
    "import nltk"
   ]
  },
  {
   "cell_type": "code",
   "execution_count": 2,
   "metadata": {},
   "outputs": [],
   "source": [
    "document = \"\"\"\n",
    "Commerce Secretary Malcolm Baldrige\n",
    "said he supported efforts to persuade newly-industrialized\n",
    "countries (NICS) to revalue currencies that are tied to the\n",
    "dollar in order to help the United States cut its massive trade\n",
    "deficit.\n",
    "    \"We do need to do something with those currencies or we\n",
    "will be substituting Japanese products for Taiwanese products,\"\n",
    "or those of other nations with currencies tied to the dollar,\n",
    "Baldrige told a House banking subcommittee.\n",
    "    The U.S. dollar has declined in value against the Yen and\n",
    "European currencies, but has changed very little against the\n",
    "currencies of some developing countries such as South Korea and\n",
    "Taiwan because they are linked to the value of the dollar.\n",
    "    As a result, efforts to reduce the value of the dollar over\n",
    "the past year and a half have done little to improve the trade\n",
    "deficits with those countries.\n",
    "    Baldrige told a House Banking subcommittee that the\n",
    "Treasury Department was attempting to persuade those countries\n",
    "to reach agreement with the United States on exchange rates.\n",
    "\"\"\""
   ]
  },
  {
   "cell_type": "code",
   "execution_count": 3,
   "metadata": {},
   "outputs": [
    {
     "data": {
      "text/plain": [
       "'\\nCommerce Secretary Malcolm Baldrige\\nsaid he supported efforts to persuade newly-industrialized\\ncountries (NICS) to revalue currencies that are tied to the\\ndollar in order to help the United States cut its massive trade\\ndeficit.\\n    \"We do need to do something with those currencies or we\\nwill be substituting Japanese products for Taiwanese products,\"\\nor those of other nations with currencies tied to the dollar,\\nBaldrige told a House banking subcommittee.\\n    The U.S. dollar has declined in value against the Yen and\\nEuropean currencies, but has changed very little against the\\ncurrencies of some developing countries such as South Korea and\\nTaiwan because they are linked to the value of the dollar.\\n    As a result, efforts to reduce the value of the dollar over\\nthe past year and a half have done little to improve the trade\\ndeficits with those countries.\\n    Baldrige told a House Banking subcommittee that the\\nTreasury Department was attempting to persuade those countries\\nto reach agreement with the United States on exchange rates.\\n'"
      ]
     },
     "execution_count": 3,
     "metadata": {},
     "output_type": "execute_result"
    }
   ],
   "source": [
    "document"
   ]
  },
  {
   "cell_type": "code",
   "execution_count": 5,
   "metadata": {},
   "outputs": [
    {
     "data": {
      "text/plain": [
       "['',\n",
       " 'Commerce Secretary Malcolm Baldrige',\n",
       " 'said he supported efforts to persuade newly-industrialized',\n",
       " 'countries (NICS) to revalue currencies that are tied to the',\n",
       " 'dollar in order to help the United States cut its massive trade',\n",
       " 'deficit.',\n",
       " '    \"We do need to do something with those currencies or we',\n",
       " 'will be substituting Japanese products for Taiwanese products,\"',\n",
       " 'or those of other nations with currencies tied to the dollar,',\n",
       " 'Baldrige told a House banking subcommittee.',\n",
       " '    The U.S. dollar has declined in value against the Yen and',\n",
       " 'European currencies, but has changed very little against the',\n",
       " 'currencies of some developing countries such as South Korea and',\n",
       " 'Taiwan because they are linked to the value of the dollar.',\n",
       " '    As a result, efforts to reduce the value of the dollar over',\n",
       " 'the past year and a half have done little to improve the trade',\n",
       " 'deficits with those countries.',\n",
       " '    Baldrige told a House Banking subcommittee that the',\n",
       " 'Treasury Department was attempting to persuade those countries',\n",
       " 'to reach agreement with the United States on exchange rates.',\n",
       " '']"
      ]
     },
     "execution_count": 5,
     "metadata": {},
     "output_type": "execute_result"
    }
   ],
   "source": [
    "document.split('\\n')"
   ]
  },
  {
   "cell_type": "code",
   "execution_count": 7,
   "metadata": {},
   "outputs": [
    {
     "data": {
      "text/plain": [
       "'!\"#$%&\\'()*+,-./:;<=>?@[\\\\]^_`{|}~'"
      ]
     },
     "execution_count": 7,
     "metadata": {},
     "output_type": "execute_result"
    }
   ],
   "source": [
    "import string\n",
    "\n",
    "string.punctuation"
   ]
  },
  {
   "cell_type": "code",
   "execution_count": 8,
   "metadata": {},
   "outputs": [],
   "source": [
    "for punct in string.punctuation:\n",
    "    document = document.replace(punct, ' ')"
   ]
  },
  {
   "cell_type": "code",
   "execution_count": 9,
   "metadata": {},
   "outputs": [
    {
     "data": {
      "text/plain": [
       "'\\nCommerce Secretary Malcolm Baldrige\\nsaid he supported efforts to persuade newly industrialized\\ncountries  NICS  to revalue currencies that are tied to the\\ndollar in order to help the United States cut its massive trade\\ndeficit \\n     We do need to do something with those currencies or we\\nwill be substituting Japanese products for Taiwanese products  \\nor those of other nations with currencies tied to the dollar \\nBaldrige told a House banking subcommittee \\n    The U S  dollar has declined in value against the Yen and\\nEuropean currencies  but has changed very little against the\\ncurrencies of some developing countries such as South Korea and\\nTaiwan because they are linked to the value of the dollar \\n    As a result  efforts to reduce the value of the dollar over\\nthe past year and a half have done little to improve the trade\\ndeficits with those countries \\n    Baldrige told a House Banking subcommittee that the\\nTreasury Department was attempting to persuade those countries\\nto reach agreement with the United States on exchange rates \\n'"
      ]
     },
     "execution_count": 9,
     "metadata": {},
     "output_type": "execute_result"
    }
   ],
   "source": [
    "document"
   ]
  },
  {
   "cell_type": "code",
   "execution_count": 10,
   "metadata": {},
   "outputs": [
    {
     "data": {
      "text/plain": [
       "['Commerce',\n",
       " 'Secretary',\n",
       " 'Malcolm',\n",
       " 'Baldrige',\n",
       " 'said',\n",
       " 'he',\n",
       " 'supported',\n",
       " 'efforts',\n",
       " 'to',\n",
       " 'persuade',\n",
       " 'newly',\n",
       " 'industrialized',\n",
       " 'countries',\n",
       " 'NICS',\n",
       " 'to',\n",
       " 'revalue',\n",
       " 'currencies',\n",
       " 'that',\n",
       " 'are',\n",
       " 'tied',\n",
       " 'to',\n",
       " 'the',\n",
       " 'dollar',\n",
       " 'in',\n",
       " 'order',\n",
       " 'to',\n",
       " 'help',\n",
       " 'the',\n",
       " 'United',\n",
       " 'States',\n",
       " 'cut',\n",
       " 'its',\n",
       " 'massive',\n",
       " 'trade',\n",
       " 'deficit',\n",
       " 'We',\n",
       " 'do',\n",
       " 'need',\n",
       " 'to',\n",
       " 'do',\n",
       " 'something',\n",
       " 'with',\n",
       " 'those',\n",
       " 'currencies',\n",
       " 'or',\n",
       " 'we',\n",
       " 'will',\n",
       " 'be',\n",
       " 'substituting',\n",
       " 'Japanese',\n",
       " 'products',\n",
       " 'for',\n",
       " 'Taiwanese',\n",
       " 'products',\n",
       " 'or',\n",
       " 'those',\n",
       " 'of',\n",
       " 'other',\n",
       " 'nations',\n",
       " 'with',\n",
       " 'currencies',\n",
       " 'tied',\n",
       " 'to',\n",
       " 'the',\n",
       " 'dollar',\n",
       " 'Baldrige',\n",
       " 'told',\n",
       " 'a',\n",
       " 'House',\n",
       " 'banking',\n",
       " 'subcommittee',\n",
       " 'The',\n",
       " 'U',\n",
       " 'S',\n",
       " 'dollar',\n",
       " 'has',\n",
       " 'declined',\n",
       " 'in',\n",
       " 'value',\n",
       " 'against',\n",
       " 'the',\n",
       " 'Yen',\n",
       " 'and',\n",
       " 'European',\n",
       " 'currencies',\n",
       " 'but',\n",
       " 'has',\n",
       " 'changed',\n",
       " 'very',\n",
       " 'little',\n",
       " 'against',\n",
       " 'the',\n",
       " 'currencies',\n",
       " 'of',\n",
       " 'some',\n",
       " 'developing',\n",
       " 'countries',\n",
       " 'such',\n",
       " 'as',\n",
       " 'South',\n",
       " 'Korea',\n",
       " 'and',\n",
       " 'Taiwan',\n",
       " 'because',\n",
       " 'they',\n",
       " 'are',\n",
       " 'linked',\n",
       " 'to',\n",
       " 'the',\n",
       " 'value',\n",
       " 'of',\n",
       " 'the',\n",
       " 'dollar',\n",
       " 'As',\n",
       " 'a',\n",
       " 'result',\n",
       " 'efforts',\n",
       " 'to',\n",
       " 'reduce',\n",
       " 'the',\n",
       " 'value',\n",
       " 'of',\n",
       " 'the',\n",
       " 'dollar',\n",
       " 'over',\n",
       " 'the',\n",
       " 'past',\n",
       " 'year',\n",
       " 'and',\n",
       " 'a',\n",
       " 'half',\n",
       " 'have',\n",
       " 'done',\n",
       " 'little',\n",
       " 'to',\n",
       " 'improve',\n",
       " 'the',\n",
       " 'trade',\n",
       " 'deficits',\n",
       " 'with',\n",
       " 'those',\n",
       " 'countries',\n",
       " 'Baldrige',\n",
       " 'told',\n",
       " 'a',\n",
       " 'House',\n",
       " 'Banking',\n",
       " 'subcommittee',\n",
       " 'that',\n",
       " 'the',\n",
       " 'Treasury',\n",
       " 'Department',\n",
       " 'was',\n",
       " 'attempting',\n",
       " 'to',\n",
       " 'persuade',\n",
       " 'those',\n",
       " 'countries',\n",
       " 'to',\n",
       " 'reach',\n",
       " 'agreement',\n",
       " 'with',\n",
       " 'the',\n",
       " 'United',\n",
       " 'States',\n",
       " 'on',\n",
       " 'exchange',\n",
       " 'rates']"
      ]
     },
     "execution_count": 10,
     "metadata": {},
     "output_type": "execute_result"
    }
   ],
   "source": [
    "document.lower().split()"
   ]
  },
  {
   "cell_type": "code",
   "execution_count": 12,
   "metadata": {},
   "outputs": [],
   "source": [
    "doc = nltk.word_tokenize(document)"
   ]
  },
  {
   "cell_type": "code",
   "execution_count": 13,
   "metadata": {},
   "outputs": [
    {
     "data": {
      "text/plain": [
       "['Commerce',\n",
       " 'Secretary',\n",
       " 'Malcolm',\n",
       " 'Baldrige',\n",
       " 'said',\n",
       " 'he',\n",
       " 'supported',\n",
       " 'efforts',\n",
       " 'to',\n",
       " 'persuade',\n",
       " 'newly',\n",
       " 'industrialized',\n",
       " 'countries',\n",
       " 'NICS',\n",
       " 'to',\n",
       " 'revalue',\n",
       " 'currencies',\n",
       " 'that',\n",
       " 'are',\n",
       " 'tied',\n",
       " 'to',\n",
       " 'the',\n",
       " 'dollar',\n",
       " 'in',\n",
       " 'order',\n",
       " 'to',\n",
       " 'help',\n",
       " 'the',\n",
       " 'United',\n",
       " 'States',\n",
       " 'cut',\n",
       " 'its',\n",
       " 'massive',\n",
       " 'trade',\n",
       " 'deficit',\n",
       " 'We',\n",
       " 'do',\n",
       " 'need',\n",
       " 'to',\n",
       " 'do',\n",
       " 'something',\n",
       " 'with',\n",
       " 'those',\n",
       " 'currencies',\n",
       " 'or',\n",
       " 'we',\n",
       " 'will',\n",
       " 'be',\n",
       " 'substituting',\n",
       " 'Japanese',\n",
       " 'products',\n",
       " 'for',\n",
       " 'Taiwanese',\n",
       " 'products',\n",
       " 'or',\n",
       " 'those',\n",
       " 'of',\n",
       " 'other',\n",
       " 'nations',\n",
       " 'with',\n",
       " 'currencies',\n",
       " 'tied',\n",
       " 'to',\n",
       " 'the',\n",
       " 'dollar',\n",
       " 'Baldrige',\n",
       " 'told',\n",
       " 'a',\n",
       " 'House',\n",
       " 'banking',\n",
       " 'subcommittee',\n",
       " 'The',\n",
       " 'U',\n",
       " 'S',\n",
       " 'dollar',\n",
       " 'has',\n",
       " 'declined',\n",
       " 'in',\n",
       " 'value',\n",
       " 'against',\n",
       " 'the',\n",
       " 'Yen',\n",
       " 'and',\n",
       " 'European',\n",
       " 'currencies',\n",
       " 'but',\n",
       " 'has',\n",
       " 'changed',\n",
       " 'very',\n",
       " 'little',\n",
       " 'against',\n",
       " 'the',\n",
       " 'currencies',\n",
       " 'of',\n",
       " 'some',\n",
       " 'developing',\n",
       " 'countries',\n",
       " 'such',\n",
       " 'as',\n",
       " 'South',\n",
       " 'Korea',\n",
       " 'and',\n",
       " 'Taiwan',\n",
       " 'because',\n",
       " 'they',\n",
       " 'are',\n",
       " 'linked',\n",
       " 'to',\n",
       " 'the',\n",
       " 'value',\n",
       " 'of',\n",
       " 'the',\n",
       " 'dollar',\n",
       " 'As',\n",
       " 'a',\n",
       " 'result',\n",
       " 'efforts',\n",
       " 'to',\n",
       " 'reduce',\n",
       " 'the',\n",
       " 'value',\n",
       " 'of',\n",
       " 'the',\n",
       " 'dollar',\n",
       " 'over',\n",
       " 'the',\n",
       " 'past',\n",
       " 'year',\n",
       " 'and',\n",
       " 'a',\n",
       " 'half',\n",
       " 'have',\n",
       " 'done',\n",
       " 'little',\n",
       " 'to',\n",
       " 'improve',\n",
       " 'the',\n",
       " 'trade',\n",
       " 'deficits',\n",
       " 'with',\n",
       " 'those',\n",
       " 'countries',\n",
       " 'Baldrige',\n",
       " 'told',\n",
       " 'a',\n",
       " 'House',\n",
       " 'Banking',\n",
       " 'subcommittee',\n",
       " 'that',\n",
       " 'the',\n",
       " 'Treasury',\n",
       " 'Department',\n",
       " 'was',\n",
       " 'attempting',\n",
       " 'to',\n",
       " 'persuade',\n",
       " 'those',\n",
       " 'countries',\n",
       " 'to',\n",
       " 'reach',\n",
       " 'agreement',\n",
       " 'with',\n",
       " 'the',\n",
       " 'United',\n",
       " 'States',\n",
       " 'on',\n",
       " 'exchange',\n",
       " 'rates']"
      ]
     },
     "execution_count": 13,
     "metadata": {},
     "output_type": "execute_result"
    }
   ],
   "source": [
    "doc"
   ]
  },
  {
   "cell_type": "code",
   "execution_count": 17,
   "metadata": {},
   "outputs": [
    {
     "data": {
      "text/plain": [
       "179"
      ]
     },
     "execution_count": 17,
     "metadata": {},
     "output_type": "execute_result"
    }
   ],
   "source": [
    "from nltk.corpus import stopwords\n",
    "\n",
    "len(stopwords.words('english'))"
   ]
  },
  {
   "cell_type": "code",
   "execution_count": 18,
   "metadata": {},
   "outputs": [],
   "source": [
    "doc_filtered = [token for token in doc if token not in stopwords.words('english')]"
   ]
  },
  {
   "cell_type": "code",
   "execution_count": 19,
   "metadata": {},
   "outputs": [
    {
     "data": {
      "text/plain": [
       "['Commerce',\n",
       " 'Secretary',\n",
       " 'Malcolm',\n",
       " 'Baldrige',\n",
       " 'said',\n",
       " 'supported',\n",
       " 'efforts',\n",
       " 'persuade',\n",
       " 'newly',\n",
       " 'industrialized',\n",
       " 'countries',\n",
       " 'NICS',\n",
       " 'revalue',\n",
       " 'currencies',\n",
       " 'tied',\n",
       " 'dollar',\n",
       " 'order',\n",
       " 'help',\n",
       " 'United',\n",
       " 'States',\n",
       " 'cut',\n",
       " 'massive',\n",
       " 'trade',\n",
       " 'deficit',\n",
       " 'We',\n",
       " 'need',\n",
       " 'something',\n",
       " 'currencies',\n",
       " 'substituting',\n",
       " 'Japanese',\n",
       " 'products',\n",
       " 'Taiwanese',\n",
       " 'products',\n",
       " 'nations',\n",
       " 'currencies',\n",
       " 'tied',\n",
       " 'dollar',\n",
       " 'Baldrige',\n",
       " 'told',\n",
       " 'House',\n",
       " 'banking',\n",
       " 'subcommittee',\n",
       " 'The',\n",
       " 'U',\n",
       " 'S',\n",
       " 'dollar',\n",
       " 'declined',\n",
       " 'value',\n",
       " 'Yen',\n",
       " 'European',\n",
       " 'currencies',\n",
       " 'changed',\n",
       " 'little',\n",
       " 'currencies',\n",
       " 'developing',\n",
       " 'countries',\n",
       " 'South',\n",
       " 'Korea',\n",
       " 'Taiwan',\n",
       " 'linked',\n",
       " 'value',\n",
       " 'dollar',\n",
       " 'As',\n",
       " 'result',\n",
       " 'efforts',\n",
       " 'reduce',\n",
       " 'value',\n",
       " 'dollar',\n",
       " 'past',\n",
       " 'year',\n",
       " 'half',\n",
       " 'done',\n",
       " 'little',\n",
       " 'improve',\n",
       " 'trade',\n",
       " 'deficits',\n",
       " 'countries',\n",
       " 'Baldrige',\n",
       " 'told',\n",
       " 'House',\n",
       " 'Banking',\n",
       " 'subcommittee',\n",
       " 'Treasury',\n",
       " 'Department',\n",
       " 'attempting',\n",
       " 'persuade',\n",
       " 'countries',\n",
       " 'reach',\n",
       " 'agreement',\n",
       " 'United',\n",
       " 'States',\n",
       " 'exchange',\n",
       " 'rates']"
      ]
     },
     "execution_count": 19,
     "metadata": {},
     "output_type": "execute_result"
    }
   ],
   "source": [
    "doc_filtered"
   ]
  },
  {
   "cell_type": "code",
   "execution_count": 20,
   "metadata": {},
   "outputs": [],
   "source": [
    "from nltk.stem.porter import PorterStemmer"
   ]
  },
  {
   "cell_type": "code",
   "execution_count": 21,
   "metadata": {},
   "outputs": [],
   "source": [
    "stemmer = PorterStemmer()"
   ]
  },
  {
   "cell_type": "code",
   "execution_count": 23,
   "metadata": {},
   "outputs": [
    {
     "data": {
      "text/plain": [
       "'play'"
      ]
     },
     "execution_count": 23,
     "metadata": {},
     "output_type": "execute_result"
    }
   ],
   "source": [
    "stemmer.stem('plays')"
   ]
  },
  {
   "cell_type": "code",
   "execution_count": 24,
   "metadata": {},
   "outputs": [
    {
     "name": "stdout",
     "output_type": "stream",
     "text": [
      "Commerce             --> commerc             \n",
      "Secretary            --> secretari           \n",
      "Malcolm              --> malcolm             \n",
      "Baldrige             --> baldrig             \n",
      "said                 --> said                \n",
      "supported            --> support             \n",
      "efforts              --> effort              \n",
      "persuade             --> persuad             \n",
      "newly                --> newli               \n",
      "industrialized       --> industri            \n",
      "countries            --> countri             \n",
      "NICS                 --> nic                 \n",
      "revalue              --> revalu              \n",
      "currencies           --> currenc             \n",
      "tied                 --> tie                 \n",
      "dollar               --> dollar              \n",
      "order                --> order               \n",
      "help                 --> help                \n",
      "United               --> unit                \n",
      "States               --> state               \n",
      "cut                  --> cut                 \n",
      "massive              --> massiv              \n",
      "trade                --> trade               \n",
      "deficit              --> deficit             \n",
      "We                   --> We                  \n",
      "need                 --> need                \n",
      "something            --> someth              \n",
      "currencies           --> currenc             \n",
      "substituting         --> substitut           \n",
      "Japanese             --> japanes             \n",
      "products             --> product             \n",
      "Taiwanese            --> taiwanes            \n",
      "products             --> product             \n",
      "nations              --> nation              \n",
      "currencies           --> currenc             \n",
      "tied                 --> tie                 \n",
      "dollar               --> dollar              \n",
      "Baldrige             --> baldrig             \n",
      "told                 --> told                \n",
      "House                --> hous                \n",
      "banking              --> bank                \n",
      "subcommittee         --> subcommitte         \n",
      "The                  --> the                 \n",
      "U                    --> U                   \n",
      "S                    --> S                   \n",
      "dollar               --> dollar              \n",
      "declined             --> declin              \n",
      "value                --> valu                \n",
      "Yen                  --> yen                 \n",
      "European             --> european            \n",
      "currencies           --> currenc             \n",
      "changed              --> chang               \n",
      "little               --> littl               \n",
      "currencies           --> currenc             \n",
      "developing           --> develop             \n",
      "countries            --> countri             \n",
      "South                --> south               \n",
      "Korea                --> korea               \n",
      "Taiwan               --> taiwan              \n",
      "linked               --> link                \n",
      "value                --> valu                \n",
      "dollar               --> dollar              \n",
      "As                   --> As                  \n",
      "result               --> result              \n",
      "efforts              --> effort              \n",
      "reduce               --> reduc               \n",
      "value                --> valu                \n",
      "dollar               --> dollar              \n",
      "past                 --> past                \n",
      "year                 --> year                \n",
      "half                 --> half                \n",
      "done                 --> done                \n",
      "little               --> littl               \n",
      "improve              --> improv              \n",
      "trade                --> trade               \n",
      "deficits             --> deficit             \n",
      "countries            --> countri             \n",
      "Baldrige             --> baldrig             \n",
      "told                 --> told                \n",
      "House                --> hous                \n",
      "Banking              --> bank                \n",
      "subcommittee         --> subcommitte         \n",
      "Treasury             --> treasuri            \n",
      "Department           --> depart              \n",
      "attempting           --> attempt             \n",
      "persuade             --> persuad             \n",
      "countries            --> countri             \n",
      "reach                --> reach               \n",
      "agreement            --> agreement           \n",
      "United               --> unit                \n",
      "States               --> state               \n",
      "exchange             --> exchang             \n",
      "rates                --> rate                \n"
     ]
    }
   ],
   "source": [
    "for token in doc_filtered:\n",
    "    print('{:<20} --> {:<20}'.format(token, stemmer.stem(token)))"
   ]
  },
  {
   "cell_type": "code",
   "execution_count": 25,
   "metadata": {},
   "outputs": [
    {
     "data": {
      "text/plain": [
       "'countri'"
      ]
     },
     "execution_count": 25,
     "metadata": {},
     "output_type": "execute_result"
    }
   ],
   "source": [
    "stemmer.stem('country')"
   ]
  },
  {
   "cell_type": "code",
   "execution_count": 27,
   "metadata": {},
   "outputs": [
    {
     "name": "stdout",
     "output_type": "stream",
     "text": [
      "Input shape: 450 \n",
      "\n",
      "In <16BA7103C3.I3150101@dbstu1.rz.tu-bs.de> I3150101@dbstu1.rz.tu-bs.de (Benedikt Rosenau) writes:\n",
      "\n",
      ">In article <1993Apr5.091258.11830@monu6.cc.monash.edu.au>\n",
      ">darice@yoyo.cc.monash.edu.au (Fred Rice) writes:\n",
      "> \n",
      ">(Deletion)\n",
      ">>>>Of course people say what they think to be the religion, and that this\n",
      ">>>>is not exactly the same coming from different people within the\n",
      ">>>>religion.  There is nothing with there existing different perspectives\n",
      ">>>>within the religion -- perhaps one can say that they t\n"
     ]
    }
   ],
   "source": [
    "import numpy as np\n",
    "from sklearn.datasets import fetch_20newsgroups\n",
    "from functools import reduce\n",
    "from sklearn.feature_extraction.text import TfidfVectorizer\n",
    "\n",
    "newsgroups_train = fetch_20newsgroups(subset='all')\n",
    "\n",
    "categ = ['alt.atheism', 'comp.graphics', 'rec.sport.baseball']\n",
    "\n",
    "data = reduce(lambda x, y: x + y, [fetch_20newsgroups(categories=[x], remove=('headers', 'footers'))['data'][:150] for x in categ])\n",
    "\n",
    "print('Input shape:', len(data), '\\n')\n",
    "print(data[0][:500])\n",
    "\n",
    "train = data[:100] + data[150:250] + data[300:400]\n",
    "test = data[100:150] + data[250:300] + data[400:]\n",
    "train_labels = np.array([0] * 100 + [1] * 100 + [2] * 100)\n",
    "test_labels = np.array([0] * 50 + [1] * 50 + [2] * 50)"
   ]
  },
  {
   "cell_type": "code",
   "execution_count": 30,
   "metadata": {},
   "outputs": [
    {
     "data": {
      "text/plain": [
       "150"
      ]
     },
     "execution_count": 30,
     "metadata": {},
     "output_type": "execute_result"
    }
   ],
   "source": [
    "len(test)"
   ]
  },
  {
   "cell_type": "code",
   "execution_count": 31,
   "metadata": {},
   "outputs": [
    {
     "data": {
      "text/plain": [
       "(300,)"
      ]
     },
     "execution_count": 31,
     "metadata": {},
     "output_type": "execute_result"
    }
   ],
   "source": [
    "train_labels.shape"
   ]
  },
  {
   "cell_type": "code",
   "execution_count": 32,
   "metadata": {},
   "outputs": [
    {
     "data": {
      "text/plain": [
       "(150,)"
      ]
     },
     "execution_count": 32,
     "metadata": {},
     "output_type": "execute_result"
    }
   ],
   "source": [
    "test_labels.shape"
   ]
  },
  {
   "cell_type": "code",
   "execution_count": 33,
   "metadata": {},
   "outputs": [],
   "source": [
    "vectorizer = TfidfVectorizer()"
   ]
  },
  {
   "cell_type": "code",
   "execution_count": 34,
   "metadata": {},
   "outputs": [],
   "source": [
    "tfidf1 = vectorizer.fit_transform(train)"
   ]
  },
  {
   "cell_type": "code",
   "execution_count": 35,
   "metadata": {},
   "outputs": [
    {
     "data": {
      "text/plain": [
       "(300, 9617)"
      ]
     },
     "execution_count": 35,
     "metadata": {},
     "output_type": "execute_result"
    }
   ],
   "source": [
    "tfidf1.shape"
   ]
  },
  {
   "cell_type": "code",
   "execution_count": 37,
   "metadata": {},
   "outputs": [
    {
     "data": {
      "text/plain": [
       "DecisionTreeClassifier(class_weight=None, criterion='gini', max_depth=None,\n",
       "            max_features=None, max_leaf_nodes=None,\n",
       "            min_impurity_decrease=0.0, min_impurity_split=None,\n",
       "            min_samples_leaf=1, min_samples_split=2,\n",
       "            min_weight_fraction_leaf=0.0, presort=False, random_state=None,\n",
       "            splitter='best')"
      ]
     },
     "execution_count": 37,
     "metadata": {},
     "output_type": "execute_result"
    }
   ],
   "source": [
    "from sklearn.tree import DecisionTreeClassifier\n",
    "\n",
    "dt = DecisionTreeClassifier()\n",
    "\n",
    "dt.fit(tfidf1, train_labels)"
   ]
  },
  {
   "cell_type": "code",
   "execution_count": 41,
   "metadata": {},
   "outputs": [
    {
     "data": {
      "text/plain": [
       "0.7066666666666667"
      ]
     },
     "execution_count": 41,
     "metadata": {},
     "output_type": "execute_result"
    }
   ],
   "source": [
    "from sklearn.metrics import accuracy_score\n",
    "\n",
    "tfidf_test = vectorizer.transform(test)\n",
    "preds = dt.predict(tfidf_test)\n",
    "acc1 = accuracy_score(test_labels, preds)\n",
    "acc1"
   ]
  },
  {
   "cell_type": "code",
   "execution_count": 42,
   "metadata": {},
   "outputs": [
    {
     "name": "stdout",
     "output_type": "stream",
     "text": [
      "(300, 9338)\n"
     ]
    },
    {
     "data": {
      "text/plain": [
       "0.76"
      ]
     },
     "execution_count": 42,
     "metadata": {},
     "output_type": "execute_result"
    }
   ],
   "source": [
    "vectorizer = TfidfVectorizer(stop_words='english')\n",
    "tfidf2 = vectorizer.fit_transform(train)\n",
    "print(tfidf2.shape)\n",
    "dt = DecisionTreeClassifier()\n",
    "dt.fit(tfidf2, train_labels)\n",
    "tfidf_test = vectorizer.transform(test)\n",
    "preds = dt.predict(tfidf_test)\n",
    "acc2 = accuracy_score(test_labels, preds)\n",
    "acc2"
   ]
  },
  {
   "cell_type": "code",
   "execution_count": 56,
   "metadata": {},
   "outputs": [
    {
     "name": "stdout",
     "output_type": "stream",
     "text": [
      "(300, 9330)\n"
     ]
    },
    {
     "data": {
      "text/plain": [
       "0.7733333333333333"
      ]
     },
     "execution_count": 56,
     "metadata": {},
     "output_type": "execute_result"
    }
   ],
   "source": [
    "vectorizer = TfidfVectorizer(stop_words='english', max_df=0.25)\n",
    "tfidf3 = vectorizer.fit_transform(train)\n",
    "print(tfidf3.shape)\n",
    "dt = DecisionTreeClassifier()\n",
    "dt.fit(tfidf3, train_labels)\n",
    "tfidf_test = vectorizer.transform(test)\n",
    "preds = dt.predict(tfidf_test)\n",
    "acc3 = accuracy_score(test_labels, preds)\n",
    "acc3"
   ]
  },
  {
   "cell_type": "code",
   "execution_count": 57,
   "metadata": {},
   "outputs": [
    {
     "name": "stdout",
     "output_type": "stream",
     "text": [
      "(300, 3671)\n"
     ]
    },
    {
     "data": {
      "text/plain": [
       "0.7866666666666666"
      ]
     },
     "execution_count": 57,
     "metadata": {},
     "output_type": "execute_result"
    }
   ],
   "source": [
    "vectorizer = TfidfVectorizer(stop_words='english', max_df=0.25, min_df=2)\n",
    "tfidf4 = vectorizer.fit_transform(train)\n",
    "print(tfidf4.shape)\n",
    "dt = DecisionTreeClassifier()\n",
    "dt.fit(tfidf4, train_labels)\n",
    "tfidf_test = vectorizer.transform(test)\n",
    "preds = dt.predict(tfidf_test)\n",
    "acc4 = accuracy_score(test_labels, preds)\n",
    "acc4"
   ]
  },
  {
   "cell_type": "code",
   "execution_count": 61,
   "metadata": {},
   "outputs": [
    {
     "name": "stdout",
     "output_type": "stream",
     "text": [
      "(300, 3239)\n"
     ]
    },
    {
     "data": {
      "text/plain": [
       "0.74"
      ]
     },
     "execution_count": 61,
     "metadata": {},
     "output_type": "execute_result"
    }
   ],
   "source": [
    "analyzer = TfidfVectorizer().build_analyzer()\n",
    "\n",
    "def stemmed_words(doc):\n",
    "    return (stemmer.stem(w) for w in analyzer(doc))\n",
    "\n",
    "vectorizer = TfidfVectorizer(stop_words='english', max_df=0.25, min_df=2, analyzer=stemmed_words)\n",
    "tfidf5 = vectorizer.fit_transform(train)\n",
    "print(tfidf5.shape)\n",
    "dt = DecisionTreeClassifier()\n",
    "dt.fit(tfidf5, train_labels)\n",
    "tfidf_test = vectorizer.transform(test)\n",
    "preds = dt.predict(tfidf_test)\n",
    "acc5 = accuracy_score(test_labels, preds)\n",
    "acc5"
   ]
  },
  {
   "cell_type": "code",
   "execution_count": null,
   "metadata": {},
   "outputs": [],
   "source": []
  }
 ],
 "metadata": {
  "kernelspec": {
   "display_name": "Python 3",
   "language": "python",
   "name": "python3"
  },
  "language_info": {
   "codemirror_mode": {
    "name": "ipython",
    "version": 3
   },
   "file_extension": ".py",
   "mimetype": "text/x-python",
   "name": "python",
   "nbconvert_exporter": "python",
   "pygments_lexer": "ipython3",
   "version": "3.6.3"
  }
 },
 "nbformat": 4,
 "nbformat_minor": 2
}
