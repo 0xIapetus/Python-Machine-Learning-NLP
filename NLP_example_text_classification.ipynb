{
 "cells": [
  {
   "cell_type": "markdown",
   "metadata": {},
   "source": [
    "## NLP classification example\n",
    "\n",
    "For the example we'll use the [20 Newsgroups](http://qwone.com/~jason/20Newsgroups/) dataset, which is available through [scikit-klearn](http://scikit-learn.org/stable/datasets/twenty_newsgroups.html)."
   ]
  },
  {
   "cell_type": "code",
   "execution_count": 48,
   "metadata": {},
   "outputs": [],
   "source": [
    "import numpy as np\n",
    "import matplotlib.pyplot as plt\n",
    "%matplotlib inline\n",
    "\n",
    "from sklearn.datasets import fetch_20newsgroups\n",
    "newsgroups_train = fetch_20newsgroups(subset='all')"
   ]
  },
  {
   "cell_type": "markdown",
   "metadata": {},
   "source": [
    "For the results to be better interpretable, we'll just include 3 categories from the dataset, each consisting of 5 documents. To make our lives easier, the categories will be rather distinct."
   ]
  },
  {
   "cell_type": "code",
   "execution_count": 5,
   "metadata": {},
   "outputs": [
    {
     "name": "stdout",
     "output_type": "stream",
     "text": [
      ".. _20newsgroups_dataset:\n",
      "\n",
      "The 20 newsgroups text dataset\n",
      "------------------------------\n",
      "\n",
      "The 20 newsgroups dataset comprises around 18000 newsgroups posts on\n",
      "20 topics split in two subsets: one for training (or development)\n",
      "and the other one for testing (or for performance evaluation). The split\n",
      "between the train and test set is based upon a messages posted before\n",
      "and after a specific date.\n",
      "\n",
      "This module contains two loaders. The first one,\n",
      ":func:`sklearn.datasets.fetch_20newsgroups`,\n",
      "returns a list of the raw texts that can be fed to text feature\n",
      "extractors such as :class:`sklearn.feature_extraction.text.CountVectorizer`\n",
      "with custom parameters so as to extract feature vectors.\n",
      "The second one, :func:`sklearn.datasets.fetch_20newsgroups_vectorized`,\n",
      "returns ready-to-use features, i.e., it is not necessary to use a feature\n",
      "extractor.\n",
      "\n",
      "**Data Set Characteristics:**\n",
      "\n",
      "    =================   ==========\n",
      "    Classes                     20\n",
      "    Samples total            18846\n",
      "    Dimensionality               1\n",
      "    Features                  text\n",
      "    =================   ==========\n",
      "\n",
      "Usage\n",
      "~~~~~\n",
      "\n",
      "The :func:`sklearn.datasets.fetch_20newsgroups` function is a data\n",
      "fetching / caching functions that downloads the data archive from\n",
      "the original `20 newsgroups website`_, extracts the archive contents\n",
      "in the ``~/scikit_learn_data/20news_home`` folder and calls the\n",
      ":func:`sklearn.datasets.load_files` on either the training or\n",
      "testing set folder, or both of them::\n",
      "\n",
      "  >>> from sklearn.datasets import fetch_20newsgroups\n",
      "  >>> newsgroups_train = fetch_20newsgroups(subset='train')\n",
      "\n",
      "  >>> from pprint import pprint\n",
      "  >>> pprint(list(newsgroups_train.target_names))\n",
      "  ['alt.atheism',\n",
      "   'comp.graphics',\n",
      "   'comp.os.ms-windows.misc',\n",
      "   'comp.sys.ibm.pc.hardware',\n",
      "   'comp.sys.mac.hardware',\n",
      "   'comp.windows.x',\n",
      "   'misc.forsale',\n",
      "   'rec.autos',\n",
      "   'rec.motorcycles',\n",
      "   'rec.sport.baseball',\n",
      "   'rec.sport.hockey',\n",
      "   'sci.crypt',\n",
      "   'sci.electronics',\n",
      "   'sci.med',\n",
      "   'sci.space',\n",
      "   'soc.religion.christian',\n",
      "   'talk.politics.guns',\n",
      "   'talk.politics.mideast',\n",
      "   'talk.politics.misc',\n",
      "   'talk.religion.misc']\n",
      "\n",
      "The real data lies in the ``filenames`` and ``target`` attributes. The target\n",
      "attribute is the integer index of the category::\n",
      "\n",
      "  >>> newsgroups_train.filenames.shape\n",
      "  (11314,)\n",
      "  >>> newsgroups_train.target.shape\n",
      "  (11314,)\n",
      "  >>> newsgroups_train.target[:10]\n",
      "  array([ 7,  4,  4,  1, 14, 16, 13,  3,  2,  4])\n",
      "\n",
      "It is possible to load only a sub-selection of the categories by passing the\n",
      "list of the categories to load to the\n",
      ":func:`sklearn.datasets.fetch_20newsgroups` function::\n",
      "\n",
      "  >>> cats = ['alt.atheism', 'sci.space']\n",
      "  >>> newsgroups_train = fetch_20newsgroups(subset='train', categories=cats)\n",
      "\n",
      "  >>> list(newsgroups_train.target_names)\n",
      "  ['alt.atheism', 'sci.space']\n",
      "  >>> newsgroups_train.filenames.shape\n",
      "  (1073,)\n",
      "  >>> newsgroups_train.target.shape\n",
      "  (1073,)\n",
      "  >>> newsgroups_train.target[:10]\n",
      "  array([0, 1, 1, 1, 0, 1, 1, 0, 0, 0])\n",
      "\n",
      "Converting text to vectors\n",
      "~~~~~~~~~~~~~~~~~~~~~~~~~~\n",
      "\n",
      "In order to feed predictive or clustering models with the text data,\n",
      "one first need to turn the text into vectors of numerical values suitable\n",
      "for statistical analysis. This can be achieved with the utilities of the\n",
      "``sklearn.feature_extraction.text`` as demonstrated in the following\n",
      "example that extract `TF-IDF`_ vectors of unigram tokens\n",
      "from a subset of 20news::\n",
      "\n",
      "  >>> from sklearn.feature_extraction.text import TfidfVectorizer\n",
      "  >>> categories = ['alt.atheism', 'talk.religion.misc',\n",
      "  ...               'comp.graphics', 'sci.space']\n",
      "  >>> newsgroups_train = fetch_20newsgroups(subset='train',\n",
      "  ...                                       categories=categories)\n",
      "  >>> vectorizer = TfidfVectorizer()\n",
      "  >>> vectors = vectorizer.fit_transform(newsgroups_train.data)\n",
      "  >>> vectors.shape\n",
      "  (2034, 34118)\n",
      "\n",
      "The extracted TF-IDF vectors are very sparse, with an average of 159 non-zero\n",
      "components by sample in a more than 30000-dimensional space\n",
      "(less than .5% non-zero features)::\n",
      "\n",
      "  >>> vectors.nnz / float(vectors.shape[0])       # doctest: +ELLIPSIS\n",
      "  159.01327...\n",
      "\n",
      ":func:`sklearn.datasets.fetch_20newsgroups_vectorized` is a function which \n",
      "returns ready-to-use token counts features instead of file names.\n",
      "\n",
      ".. _`20 newsgroups website`: http://people.csail.mit.edu/jrennie/20Newsgroups/\n",
      ".. _`TF-IDF`: https://en.wikipedia.org/wiki/Tf-idf\n",
      "\n",
      "\n",
      "Filtering text for more realistic training\n",
      "~~~~~~~~~~~~~~~~~~~~~~~~~~~~~~~~~~~~~~~~~~\n",
      "\n",
      "It is easy for a classifier to overfit on particular things that appear in the\n",
      "20 Newsgroups data, such as newsgroup headers. Many classifiers achieve very\n",
      "high F-scores, but their results would not generalize to other documents that\n",
      "aren't from this window of time.\n",
      "\n",
      "For example, let's look at the results of a multinomial Naive Bayes classifier,\n",
      "which is fast to train and achieves a decent F-score::\n",
      "\n",
      "  >>> from sklearn.naive_bayes import MultinomialNB\n",
      "  >>> from sklearn import metrics\n",
      "  >>> newsgroups_test = fetch_20newsgroups(subset='test',\n",
      "  ...                                      categories=categories)\n",
      "  >>> vectors_test = vectorizer.transform(newsgroups_test.data)\n",
      "  >>> clf = MultinomialNB(alpha=.01)\n",
      "  >>> clf.fit(vectors, newsgroups_train.target)\n",
      "  MultinomialNB(alpha=0.01, class_prior=None, fit_prior=True)\n",
      "\n",
      "  >>> pred = clf.predict(vectors_test)\n",
      "  >>> metrics.f1_score(newsgroups_test.target, pred, average='macro')  # doctest: +ELLIPSIS\n",
      "  0.88213...\n",
      "\n",
      "(The example :ref:`sphx_glr_auto_examples_text_plot_document_classification_20newsgroups.py` shuffles\n",
      "the training and test data, instead of segmenting by time, and in that case\n",
      "multinomial Naive Bayes gets a much higher F-score of 0.88. Are you suspicious\n",
      "yet of what's going on inside this classifier?)\n",
      "\n",
      "Let's take a look at what the most informative features are:\n",
      "\n",
      "  >>> import numpy as np\n",
      "  >>> def show_top10(classifier, vectorizer, categories):\n",
      "  ...     feature_names = np.asarray(vectorizer.get_feature_names())\n",
      "  ...     for i, category in enumerate(categories):\n",
      "  ...         top10 = np.argsort(classifier.coef_[i])[-10:]\n",
      "  ...         print(\"%s: %s\" % (category, \" \".join(feature_names[top10])))\n",
      "  ...\n",
      "  >>> show_top10(clf, vectorizer, newsgroups_train.target_names)\n",
      "  alt.atheism: edu it and in you that is of to the\n",
      "  comp.graphics: edu in graphics it is for and of to the\n",
      "  sci.space: edu it that is in and space to of the\n",
      "  talk.religion.misc: not it you in is that and to of the\n",
      "\n",
      "\n",
      "You can now see many things that these features have overfit to:\n",
      "\n",
      "- Almost every group is distinguished by whether headers such as\n",
      "  ``NNTP-Posting-Host:`` and ``Distribution:`` appear more or less often.\n",
      "- Another significant feature involves whether the sender is affiliated with\n",
      "  a university, as indicated either by their headers or their signature.\n",
      "- The word \"article\" is a significant feature, based on how often people quote\n",
      "  previous posts like this: \"In article [article ID], [name] <[e-mail address]>\n",
      "  wrote:\"\n",
      "- Other features match the names and e-mail addresses of particular people who\n",
      "  were posting at the time.\n",
      "\n",
      "With such an abundance of clues that distinguish newsgroups, the classifiers\n",
      "barely have to identify topics from text at all, and they all perform at the\n",
      "same high level.\n",
      "\n",
      "For this reason, the functions that load 20 Newsgroups data provide a\n",
      "parameter called **remove**, telling it what kinds of information to strip out\n",
      "of each file. **remove** should be a tuple containing any subset of\n",
      "``('headers', 'footers', 'quotes')``, telling it to remove headers, signature\n",
      "blocks, and quotation blocks respectively.\n",
      "\n",
      "  >>> newsgroups_test = fetch_20newsgroups(subset='test',\n",
      "  ...                                      remove=('headers', 'footers', 'quotes'),\n",
      "  ...                                      categories=categories)\n",
      "  >>> vectors_test = vectorizer.transform(newsgroups_test.data)\n",
      "  >>> pred = clf.predict(vectors_test)\n",
      "  >>> metrics.f1_score(pred, newsgroups_test.target, average='macro')  # doctest: +ELLIPSIS\n",
      "  0.77310...\n",
      "\n",
      "This classifier lost over a lot of its F-score, just because we removed\n",
      "metadata that has little to do with topic classification.\n",
      "It loses even more if we also strip this metadata from the training data:\n",
      "\n",
      "  >>> newsgroups_train = fetch_20newsgroups(subset='train',\n",
      "  ...                                       remove=('headers', 'footers', 'quotes'),\n",
      "  ...                                       categories=categories)\n",
      "  >>> vectors = vectorizer.fit_transform(newsgroups_train.data)\n",
      "  >>> clf = MultinomialNB(alpha=.01)\n",
      "  >>> clf.fit(vectors, newsgroups_train.target)\n",
      "  MultinomialNB(alpha=0.01, class_prior=None, fit_prior=True)\n",
      "\n",
      "  >>> vectors_test = vectorizer.transform(newsgroups_test.data)\n",
      "  >>> pred = clf.predict(vectors_test)\n",
      "  >>> metrics.f1_score(newsgroups_test.target, pred, average='macro')  # doctest: +ELLIPSIS\n",
      "  0.76995...\n",
      "\n",
      "Some other classifiers cope better with this harder version of the task. Try\n",
      "running :ref:`sphx_glr_auto_examples_model_selection_grid_search_text_feature_extraction.py` with and without\n",
      "the ``--filter`` option to compare the results.\n",
      "\n",
      ".. topic:: Recommendation\n",
      "\n",
      "  When evaluating text classifiers on the 20 Newsgroups data, you\n",
      "  should strip newsgroup-related metadata. In scikit-learn, you can do this by\n",
      "  setting ``remove=('headers', 'footers', 'quotes')``. The F-score will be\n",
      "  lower because it is more realistic.\n",
      "\n",
      ".. topic:: Examples\n",
      "\n",
      "   * :ref:`sphx_glr_auto_examples_model_selection_grid_search_text_feature_extraction.py`\n",
      "\n",
      "   * :ref:`sphx_glr_auto_examples_text_plot_document_classification_20newsgroups.py`\n",
      "\n"
     ]
    }
   ],
   "source": [
    "print(newsgroups_train['DESCR'])"
   ]
  },
  {
   "cell_type": "code",
   "execution_count": 8,
   "metadata": {},
   "outputs": [
    {
     "name": "stdout",
     "output_type": "stream",
     "text": [
      "Input shape: 450 \n",
      "\n",
      "In <16BA7103C3.I3150101@dbstu1.rz.tu-bs.de> I3150101@dbstu1.rz.tu-bs.de (Benedikt Rosenau) writes:\n",
      "\n",
      ">In article <1993Apr5.091258.11830@monu6.cc.monash.edu.au>\n",
      ">darice@yoyo.cc.monash.edu.au (Fred Rice) writes:\n",
      "> \n",
      ">(Deletion)\n",
      ">>>>Of course people say what they think to be the religion, and that this\n",
      ">>>>is not exactly the same coming from different people within the\n",
      ">>>>religion.  There is nothing with there existing different perspectives\n",
      ">>>>within the religion -- perhaps one can say that they t\n"
     ]
    }
   ],
   "source": [
    "from functools import reduce\n",
    "\n",
    "categ = ['alt.atheism', 'comp.graphics', 'rec.sport.baseball']\n",
    "\n",
    "data = reduce(lambda x, y: x + y, [fetch_20newsgroups(categories=[x], remove=('headers', 'footers'))['data'][:150] for x in categ])\n",
    "\n",
    "print('Input shape:', len(data), '\\n')\n",
    "print(data[0][:500])"
   ]
  },
  {
   "cell_type": "markdown",
   "metadata": {},
   "source": [
    "`data` is a list containing $450$ documents, $150$ from each category (i.e. `'alt.atheism'`, `'comp.graphics'` and `'rec.sport.baseball'`). From these, we'll use $300$ ($100$ from each category) for training the model and $150$ ($50$ from each category) for evaluation.\n",
    "\n",
    "As in many cases when dealing with text, the data is **pretty raw**. \n",
    "\n",
    "We'll first separate the training from the test part."
   ]
  },
  {
   "cell_type": "code",
   "execution_count": 28,
   "metadata": {},
   "outputs": [],
   "source": [
    "train = data[:100] + data[150:250] + data[300:400]\n",
    "test = data[100:150] + data[250:300] + data[400:]\n",
    "train_labels = np.array([0] * 100 + [1] * 100 + [2] * 100)\n",
    "test_labels = np.array([0] * 50 + [1] * 50 + [2] * 50)"
   ]
  },
  {
   "cell_type": "markdown",
   "metadata": {},
   "source": [
    "This time around, instead of preprocessing the documents manually, we'll use scikit-learn's [TfidfVectorizer](http://scikit-learn.org/stable/modules/generated/sklearn.feature_extraction.text.TfidfVectorizer.html), which can support every [pre-processing](http://scikit-learn.org/stable/modules/feature_extraction.html#customizing-the-vectorizer-classes) we previously saw (stopwords, stemming, lemmatizing, κτλ). We'll also use two extra parameters: `max_df=x`, which ignores any terms that appear in documents with a frequency larger than `x` (i.e. the most common terms) and `max_df=y`, which ignores terms that appear less than `y` times in the corpus (i.e. the least common terms). For this example we won't be performing any stemming/lemmatizing, but the vectorizer does support this functionality (see link above).  "
   ]
  },
  {
   "cell_type": "code",
   "execution_count": 85,
   "metadata": {},
   "outputs": [
    {
     "name": "stdout",
     "output_type": "stream",
     "text": [
      "TF-IDF train shape: (300, 9617)\n",
      "TF-IDF test shape:  (150, 9617)\n"
     ]
    }
   ],
   "source": [
    "from sklearn.feature_extraction.text import TfidfVectorizer\n",
    "\n",
    "vectorizer = TfidfVectorizer()\n",
    "\n",
    "tf_idf_train = vectorizer.fit_transform(train).toarray()  # returns a sparse matrix, to convert it to a regular array we use .toarray()\n",
    "tf_idf_test = vectorizer.transform(test).toarray()  # don't fit on the test set\n",
    "\n",
    "print('TF-IDF train shape:', tf_idf_train.shape)\n",
    "print('TF-IDF test shape: ', tf_idf_test.shape)"
   ]
  },
  {
   "cell_type": "markdown",
   "metadata": {},
   "source": [
    "$9600$ features is a **very large** number, especially when we have only $450$ samples. Also if a term is encountered in the test set **that was not seen in the training set** then it is not included in the array!\n",
    "\n",
    "However, we'll proceed to classify the document to get a baseline and then return to reduce some of those features!"
   ]
  },
  {
   "cell_type": "code",
   "execution_count": 86,
   "metadata": {},
   "outputs": [
    {
     "name": "stdout",
     "output_type": "stream",
     "text": [
      "kNN: 80.67%\n",
      "DT:  68.67%\n",
      "NB:  88.00%\n",
      "Total training time for 9617 features is 66 seconds.\n"
     ]
    }
   ],
   "source": [
    "from sklearn.neighbors import KNeighborsClassifier\n",
    "from sklearn.tree import DecisionTreeClassifier\n",
    "from sklearn.naive_bayes import MultinomialNB\n",
    "from sklearn.model_selection import GridSearchCV\n",
    "from sklearn.metrics import accuracy_score\n",
    "import time\n",
    "\n",
    "start_time = time.time()\n",
    "knn_grid = {'n_neighbors': range(1, 32, 2)}\n",
    "knn = GridSearchCV(KNeighborsClassifier(), knn_grid, cv=3, iid=False)\n",
    "knn.fit(tf_idf_train, train_labels)\n",
    "knn_acc = accuracy_score(test_labels, knn.predict(tf_idf_test)) * 100\n",
    "print('kNN: {:.2f}%'.format(knn_acc))\n",
    "\n",
    "dt = DecisionTreeClassifier()\n",
    "dt.fit(tf_idf_train, train_labels)\n",
    "dt_acc = accuracy_score(test_labels, dt.predict(tf_idf_test)) * 100\n",
    "print('DT:  {:.2f}%'.format(dt_acc))\n",
    "\n",
    "nb = MultinomialNB()\n",
    "nb.fit(tf_idf_train, train_labels)\n",
    "nb_acc = accuracy_score(test_labels, nb.predict(tf_idf_test)) * 100\n",
    "print('NB:  {:.2f}%'.format(nb_acc))\n",
    "\n",
    "train_time = time.time() - start_time\n",
    "\n",
    "results = {'exp1': [tf_idf_train.shape[1], train_time, knn_acc, dt_acc, nb_acc]}\n",
    "\n",
    "print('Total training time for {} features is {} seconds.'.format(tf_idf_train.shape[1], int(train_time)))"
   ]
  },
  {
   "cell_type": "markdown",
   "metadata": {},
   "source": [
    "Now, how can we improve on this baseline.We'll do these steps one by one to see the improvement. The first thing we could try is **stopword removal**."
   ]
  },
  {
   "cell_type": "code",
   "execution_count": 87,
   "metadata": {},
   "outputs": [
    {
     "name": "stdout",
     "output_type": "stream",
     "text": [
      "TF-IDF train shape: (300, 9338)\n",
      "TF-IDF test shape:  (150, 9338)\n",
      "kNN: 97.33%\n",
      "DT:  76.00%\n",
      "NB:  98.67%\n",
      "Total training time for 9338 features is 60 seconds.\n"
     ]
    }
   ],
   "source": [
    "vectorizer = TfidfVectorizer(stop_words='english')\n",
    "\n",
    "tf_idf_train = vectorizer.fit_transform(train).toarray()  \n",
    "tf_idf_test = vectorizer.transform(test).toarray()  \n",
    "\n",
    "print('TF-IDF train shape:', tf_idf_train.shape)\n",
    "print('TF-IDF test shape: ', tf_idf_test.shape)\n",
    "\n",
    "start_time = time.time()\n",
    "knn_grid = {'n_neighbors': range(1, 32, 2)}\n",
    "knn = GridSearchCV(KNeighborsClassifier(), knn_grid, cv=3, iid=False)\n",
    "knn.fit(tf_idf_train, train_labels)\n",
    "knn_acc = accuracy_score(test_labels, knn.predict(tf_idf_test)) * 100\n",
    "print('kNN: {:.2f}%'.format(knn_acc))\n",
    "\n",
    "dt = DecisionTreeClassifier()\n",
    "dt.fit(tf_idf_train, train_labels)\n",
    "dt_acc = accuracy_score(test_labels, dt.predict(tf_idf_test)) * 100\n",
    "print('DT:  {:.2f}%'.format(dt_acc))\n",
    "\n",
    "nb = MultinomialNB()\n",
    "nb.fit(tf_idf_train, train_labels)\n",
    "nb_acc = accuracy_score(test_labels, nb.predict(tf_idf_test)) * 100\n",
    "print('NB:  {:.2f}%'.format(nb_acc))\n",
    "\n",
    "train_time = time.time() - start_time\n",
    "\n",
    "results['exp2'] = [tf_idf_train.shape[1], train_time, knn_acc, dt_acc, nb_acc]\n",
    "\n",
    "print('Total training time for {} features is {} seconds.'.format(tf_idf_train.shape[1], int(train_time)))"
   ]
  },
  {
   "cell_type": "markdown",
   "metadata": {},
   "source": [
    "Stopword removal amounted to the removal of around $300$ features (which are usually not useful for classication). Even though we didn't achieve a large reduction in training time, we managed to **increase the performance** of the classifiers noticably!\n",
    "\n",
    "Next up, we'll try set a `max_df` argument. This drops all terms that have a frequency larger than the given number. The intuition behind this is that terms that appear in many documents (over many different topics) aren't very useful for distinguishing between them."
   ]
  },
  {
   "cell_type": "code",
   "execution_count": 88,
   "metadata": {},
   "outputs": [
    {
     "name": "stdout",
     "output_type": "stream",
     "text": [
      "TF-IDF train shape: (300, 9592)\n",
      "TF-IDF test shape:  (150, 9592)\n",
      "kNN: 92.67%\n",
      "DT:  74.00%\n",
      "NB:  96.67%\n",
      "Total training time for 9592 features is 73 seconds.\n"
     ]
    }
   ],
   "source": [
    "vectorizer = TfidfVectorizer(max_df=0.4)  # drop all terms that appear in at least 40% of the documents\n",
    "\n",
    "tf_idf_train = vectorizer.fit_transform(train).toarray()  \n",
    "tf_idf_test = vectorizer.transform(test).toarray()  \n",
    "\n",
    "print('TF-IDF train shape:', tf_idf_train.shape)\n",
    "print('TF-IDF test shape: ', tf_idf_test.shape)\n",
    "\n",
    "start_time = time.time()\n",
    "knn_grid = {'n_neighbors': range(1, 32, 2)}\n",
    "knn = GridSearchCV(KNeighborsClassifier(), knn_grid, cv=3, iid=False)\n",
    "knn.fit(tf_idf_train, train_labels)\n",
    "knn_acc = accuracy_score(test_labels, knn.predict(tf_idf_test)) * 100\n",
    "print('kNN: {:.2f}%'.format(knn_acc))\n",
    "\n",
    "dt = DecisionTreeClassifier()\n",
    "dt.fit(tf_idf_train, train_labels)\n",
    "dt_acc = accuracy_score(test_labels, dt.predict(tf_idf_test)) * 100\n",
    "print('DT:  {:.2f}%'.format(dt_acc))\n",
    "\n",
    "nb = MultinomialNB()\n",
    "nb.fit(tf_idf_train, train_labels)\n",
    "nb_acc = accuracy_score(test_labels, nb.predict(tf_idf_test)) * 100\n",
    "print('NB:  {:.2f}%'.format(nb_acc))\n",
    "\n",
    "train_time = time.time() - start_time\n",
    "\n",
    "results['exp3'] = [tf_idf_train.shape[1], train_time, knn_acc, dt_acc, nb_acc]\n",
    "\n",
    "print('Total training time for {} features is {} seconds.'.format(tf_idf_train.shape[1], int(train_time)))"
   ]
  },
  {
   "cell_type": "markdown",
   "metadata": {},
   "source": [
    "This didn't have almost any effect in reducing the features, however it increased performance!\n",
    "\n",
    "The next thing we'll try is to set a `min_df`. This drops the terms that appear the **least** amount of times. The intuition is that these features are so rare that they aren't useful. "
   ]
  },
  {
   "cell_type": "code",
   "execution_count": 89,
   "metadata": {},
   "outputs": [
    {
     "name": "stdout",
     "output_type": "stream",
     "text": [
      "TF-IDF train shape: (300, 1362)\n",
      "TF-IDF test shape:  (150, 1362)\n",
      "kNN: 84.00%\n",
      "DT:  69.33%\n",
      "NB:  95.33%\n",
      "Total training time for 1362 features is 9 seconds.\n"
     ]
    }
   ],
   "source": [
    "vectorizer = TfidfVectorizer(min_df=5)  # drop all terms that appear less than 5 documents\n",
    "\n",
    "tf_idf_train = vectorizer.fit_transform(train).toarray()  \n",
    "tf_idf_test = vectorizer.transform(test).toarray()  \n",
    "\n",
    "print('TF-IDF train shape:', tf_idf_train.shape)\n",
    "print('TF-IDF test shape: ', tf_idf_test.shape)\n",
    "\n",
    "start_time = time.time()\n",
    "knn_grid = {'n_neighbors': range(1, 32, 2)}\n",
    "knn = GridSearchCV(KNeighborsClassifier(), knn_grid, cv=3, iid=False)\n",
    "knn.fit(tf_idf_train, train_labels)\n",
    "knn_acc = accuracy_score(test_labels, knn.predict(tf_idf_test)) * 100\n",
    "print('kNN: {:.2f}%'.format(knn_acc))\n",
    "\n",
    "dt = DecisionTreeClassifier()\n",
    "dt.fit(tf_idf_train, train_labels)\n",
    "dt_acc = accuracy_score(test_labels, dt.predict(tf_idf_test)) * 100\n",
    "print('DT:  {:.2f}%'.format(dt_acc))\n",
    "\n",
    "nb = MultinomialNB()\n",
    "nb.fit(tf_idf_train, train_labels)\n",
    "nb_acc = accuracy_score(test_labels, nb.predict(tf_idf_test)) * 100\n",
    "print('NB:  {:.2f}%'.format(nb_acc))\n",
    "\n",
    "train_time = time.time() - start_time\n",
    "\n",
    "results['exp4'] = [tf_idf_train.shape[1], train_time, knn_acc, dt_acc, nb_acc]\n",
    "\n",
    "print('Total training time for {} features is {} seconds.'.format(tf_idf_train.shape[1], int(train_time)))"
   ]
  },
  {
   "cell_type": "markdown",
   "metadata": {},
   "source": [
    "Wow, this **massively reduced training time** while also **improving the perfomance** of the models! \n",
    "\n",
    "The last thing we'll try is to add a stemmer. This is a bit trickier."
   ]
  },
  {
   "cell_type": "code",
   "execution_count": 90,
   "metadata": {},
   "outputs": [
    {
     "name": "stdout",
     "output_type": "stream",
     "text": [
      "TF-IDF train shape: (300, 7428)\n",
      "TF-IDF test shape:  (150, 7428)\n",
      "kNN: 84.00%\n",
      "DT:  75.33%\n",
      "NB:  88.67%\n",
      "Total training time for 7428 features is 52 seconds.\n"
     ]
    }
   ],
   "source": [
    "from nltk.stem import PorterStemmer\n",
    "\n",
    "stemmer = PorterStemmer()\n",
    "analyzer = TfidfVectorizer().build_analyzer()\n",
    "\n",
    "def stemmed_words(doc):\n",
    "    return (stemmer.stem(w) for w in analyzer(doc))\n",
    "\n",
    "vectorizer = TfidfVectorizer(analyzer=stemmed_words)  \n",
    "\n",
    "tf_idf_train = vectorizer.fit_transform(train).toarray()  \n",
    "tf_idf_test = vectorizer.transform(test).toarray()  \n",
    "\n",
    "print('TF-IDF train shape:', tf_idf_train.shape)\n",
    "print('TF-IDF test shape: ', tf_idf_test.shape)\n",
    "\n",
    "start_time = time.time()\n",
    "knn_grid = {'n_neighbors': range(1, 32, 2)}\n",
    "knn = GridSearchCV(KNeighborsClassifier(), knn_grid, cv=3, iid=False)\n",
    "knn.fit(tf_idf_train, train_labels)\n",
    "knn_acc = accuracy_score(test_labels, knn.predict(tf_idf_test)) * 100\n",
    "print('kNN: {:.2f}%'.format(knn_acc))\n",
    "\n",
    "dt = DecisionTreeClassifier()\n",
    "dt.fit(tf_idf_train, train_labels)\n",
    "dt_acc = accuracy_score(test_labels, dt.predict(tf_idf_test)) * 100\n",
    "print('DT:  {:.2f}%'.format(dt_acc))\n",
    "\n",
    "nb = MultinomialNB()\n",
    "nb.fit(tf_idf_train, train_labels)\n",
    "nb_acc = accuracy_score(test_labels, nb.predict(tf_idf_test)) * 100\n",
    "print('NB:  {:.2f}%'.format(nb_acc))\n",
    "\n",
    "train_time = time.time() - start_time\n",
    "\n",
    "results['exp5'] = [tf_idf_train.shape[1], train_time, knn_acc, dt_acc, nb_acc]\n",
    "\n",
    "print('Total training time for {} features is {} seconds.'.format(tf_idf_train.shape[1], int(train_time)))"
   ]
  },
  {
   "cell_type": "markdown",
   "metadata": {},
   "source": [
    "Let's compare the techniques"
   ]
  },
  {
   "cell_type": "code",
   "execution_count": 97,
   "metadata": {},
   "outputs": [
    {
     "data": {
      "text/plain": [
       "Text(0.5, 1.0, 'Number of features')"
      ]
     },
     "execution_count": 97,
     "metadata": {},
     "output_type": "execute_result"
    },
    {
     "data": {
      "image/png": "[encoded data removed]",
      "text/plain": [
       "<Figure size 432x288 with 1 Axes>"
      ]
     },
     "metadata": {},
     "output_type": "display_data"
    }
   ],
   "source": [
    "experiments = ['exp' + str(i) for i in range(1, 6)]\n",
    "labels = ['vanilla', 'stopwords', 'max_df', 'min_df', 'stemmer']\n",
    "plt.bar(labels, [results[x][0] for x in experiments])\n",
    "plt.title('Number of features')"
   ]
  },
  {
   "cell_type": "markdown",
   "metadata": {},
   "source": [
    "Only `min_df` actually managed to significantly reduce dimensions."
   ]
  },
  {
   "cell_type": "code",
   "execution_count": 98,
   "metadata": {},
   "outputs": [
    {
     "data": {
      "text/plain": [
       "Text(0.5, 1.0, 'Training time')"
      ]
     },
     "execution_count": 98,
     "metadata": {},
     "output_type": "execute_result"
    },
    {
     "data": {
      "image/png": "[encoded data removed]",
      "text/plain": [
       "<Figure size 432x288 with 1 Axes>"
      ]
     },
     "metadata": {},
     "output_type": "display_data"
    }
   ],
   "source": [
    "plt.bar(labels, [results[x][1] for x in experiments])\n",
    "plt.title('Training time')"
   ]
  },
  {
   "cell_type": "markdown",
   "metadata": {},
   "source": [
    "This follows the trend of the previous plot."
   ]
  },
  {
   "cell_type": "code",
   "execution_count": 100,
   "metadata": {},
   "outputs": [
    {
     "data": {
      "text/plain": [
       "Text(0.5, 1.0, 'kNN accuracy')"
      ]
     },
     "execution_count": 100,
     "metadata": {},
     "output_type": "execute_result"
    },
    {
     "data": {
      "image/png": "[encoded data removed]",
      "text/plain": [
       "<Figure size 432x288 with 1 Axes>"
      ]
     },
     "metadata": {},
     "output_type": "display_data"
    }
   ],
   "source": [
    "plt.bar(labels, [results[x][2] for x in experiments])\n",
    "plt.title('kNN accuracy')"
   ]
  },
  {
   "cell_type": "markdown",
   "metadata": {},
   "source": [
    "Dropping common words improved performance the most, as indicated by `stopwords` and `max_df`. An interesting note is that while `min_df` and the `stemmer` managed to reduce dimensions, they **didn't** suffer from reduced performance.  "
   ]
  },
  {
   "cell_type": "code",
   "execution_count": 101,
   "metadata": {},
   "outputs": [
    {
     "data": {
      "text/plain": [
       "Text(0.5, 1.0, 'Decision Tree accuracy')"
      ]
     },
     "execution_count": 101,
     "metadata": {},
     "output_type": "execute_result"
    },
    {
     "data": {
      "image/png": "[encoded data removed]",
      "text/plain": [
       "<Figure size 432x288 with 1 Axes>"
      ]
     },
     "metadata": {},
     "output_type": "display_data"
    }
   ],
   "source": [
    "plt.bar(labels, [results[x][3] for x in experiments])\n",
    "plt.title('Decision Tree accuracy')"
   ]
  },
  {
   "cell_type": "code",
   "execution_count": 102,
   "metadata": {},
   "outputs": [
    {
     "data": {
      "text/plain": [
       "Text(0.5, 1.0, 'Naive Bayes accuracy')"
      ]
     },
     "execution_count": 102,
     "metadata": {},
     "output_type": "execute_result"
    },
    {
     "data": {
      "image/png": "[encoded data removed]",
      "text/plain": [
       "<Figure size 432x288 with 1 Axes>"
      ]
     },
     "metadata": {},
     "output_type": "display_data"
    }
   ],
   "source": [
    "plt.bar(labels, [results[x][4] for x in experiments])\n",
    "plt.title('Naive Bayes accuracy')"
   ]
  },
  {
   "cell_type": "markdown",
   "metadata": {},
   "source": [
    "Let's put the first 3 parameters together."
   ]
  },
  {
   "cell_type": "code",
   "execution_count": 104,
   "metadata": {},
   "outputs": [
    {
     "name": "stdout",
     "output_type": "stream",
     "text": [
      "TF-IDF train shape: (300, 1134)\n",
      "TF-IDF test shape:  (150, 1134)\n",
      "kNN: 96.67%\n",
      "DT:  79.33%\n",
      "NB:  99.33%\n",
      "Total training time for 1134 features is 7 seconds.\n"
     ]
    }
   ],
   "source": [
    "vectorizer = TfidfVectorizer(min_df=5, max_df=0.4, stop_words='english')\n",
    "\n",
    "tf_idf_train = vectorizer.fit_transform(train).toarray()  \n",
    "tf_idf_test = vectorizer.transform(test).toarray()  \n",
    "\n",
    "print('TF-IDF train shape:', tf_idf_train.shape)\n",
    "print('TF-IDF test shape: ', tf_idf_test.shape)\n",
    "\n",
    "start_time = time.time()\n",
    "knn_grid = {'n_neighbors': range(1, 32, 2)}\n",
    "knn = GridSearchCV(KNeighborsClassifier(), knn_grid, cv=3, iid=False)\n",
    "knn.fit(tf_idf_train, train_labels)\n",
    "knn_acc = accuracy_score(test_labels, knn.predict(tf_idf_test)) * 100\n",
    "print('kNN: {:.2f}%'.format(knn_acc))\n",
    "\n",
    "dt = DecisionTreeClassifier()\n",
    "dt.fit(tf_idf_train, train_labels)\n",
    "dt_acc = accuracy_score(test_labels, dt.predict(tf_idf_test)) * 100\n",
    "print('DT:  {:.2f}%'.format(dt_acc))\n",
    "\n",
    "nb = MultinomialNB()\n",
    "nb.fit(tf_idf_train, train_labels)\n",
    "nb_acc = accuracy_score(test_labels, nb.predict(tf_idf_test)) * 100\n",
    "print('NB:  {:.2f}%'.format(nb_acc))\n",
    "\n",
    "train_time = time.time() - start_time\n",
    "\n",
    "results['exp6'] = [tf_idf_train.shape[1], train_time, knn_acc, dt_acc, nb_acc]\n",
    "\n",
    "print('Total training time for {} features is {} seconds.'.format(tf_idf_train.shape[1], int(train_time)))"
   ]
  },
  {
   "cell_type": "code",
   "execution_count": 109,
   "metadata": {},
   "outputs": [
    {
     "data": {
      "text/plain": [
       "Text(0.5, 1.0, 'Naive Bayes accuracy')"
      ]
     },
     "execution_count": 109,
     "metadata": {},
     "output_type": "execute_result"
    },
    {
     "data": {
      "image/png": "[encoded data removed]",
      "text/plain": [
       "<Figure size 1008x360 with 2 Axes>"
      ]
     },
     "metadata": {},
     "output_type": "display_data"
    }
   ],
   "source": [
    "plt.figure(figsize=(14, 5))\n",
    "\n",
    "experiments += ['exp6']\n",
    "labels += ['combined']\n",
    "colors = ['C0'] * 5 + ['C1']\n",
    "\n",
    "ax = plt.subplot(121)\n",
    "ax.bar(labels, [results[x][1] for x in experiments], color=colors)\n",
    "ax.set_title('Training time')\n",
    "\n",
    "ax = plt.subplot(122)\n",
    "ax.bar(labels, [results[x][4] for x in experiments], color=colors)\n",
    "ax.set_title('Naive Bayes accuracy')"
   ]
  },
  {
   "cell_type": "markdown",
   "metadata": {},
   "source": [
    "The new model **scored the best results**, while **taking the least amount of time to train**! \n",
    "\n",
    "Keep in mind that preprocessing is king in NLP!"
   ]
  }
 ],
 "metadata": {
  "kernelspec": {
   "display_name": "Python 3",
   "language": "python",
   "name": "python3"
  },
  "language_info": {
   "codemirror_mode": {
    "name": "ipython",
    "version": 3
   },
   "file_extension": ".py",
   "mimetype": "text/x-python",
   "name": "python",
   "nbconvert_exporter": "python",
   "pygments_lexer": "ipython3",
   "version": "3.6.3"
  }
 },
 "nbformat": 4,
 "nbformat_minor": 2
}
